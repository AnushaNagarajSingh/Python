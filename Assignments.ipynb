{
 "cells": [
  {
   "cell_type": "code",
   "execution_count": 1,
   "metadata": {},
   "outputs": [
    {
     "name": "stdout",
     "output_type": "stream",
     "text": [
      "[[12, 4, 3], [7, 5, 8]]\n"
     ]
    }
   ],
   "source": [
    "#1)Assignment matrix and transpose using append\n",
    "\n",
    "X = [[12,7],\n",
    "    [4 ,5],\n",
    "    [3 ,8]]\n",
    "result=[]\n",
    "\n",
    "for i in range(len(X[0])):\n",
    "        row =[]\n",
    "        for item in X:\n",
    "            row.append(item[i])\n",
    "        result.append(row)\n",
    "print(result)"
   ]
  },
  {
   "cell_type": "code",
   "execution_count": 2,
   "metadata": {},
   "outputs": [
    {
     "name": "stdout",
     "output_type": "stream",
     "text": [
      " 2 :  1\n",
      " 6 :  2\n",
      " 10 :  2\n",
      " 7 :  2\n",
      " 1 :  1\n",
      " 8 :  1\n",
      " 9 :  1\n"
     ]
    }
   ],
   "source": [
    "#2)Assignment list count using loop., which checks frequency of each number in list\n",
    "\n",
    "a=[2,6,10,7,1,6,7,8,9,10]\n",
    "\n",
    "freq = {}\n",
    "for items in a:\n",
    "        freq[items] = a.count(items)\n",
    "       \n",
    "for key, value in freq.items():\n",
    "    print (\"% d : % d\" %(key, value))"
   ]
  },
  {
   "cell_type": "code",
   "execution_count": 3,
   "metadata": {},
   "outputs": [
    {
     "name": "stdout",
     "output_type": "stream",
     "text": [
      "enter a num 45\n",
      "not\n"
     ]
    }
   ],
   "source": [
    "#palindrome\n",
    "    \n",
    "num=int(input(\"enter a num \"))\n",
    "temp=num\n",
    "rev=0\n",
    "while(num>0):\n",
    "    n=num%10\n",
    "    rev=rev*10+n\n",
    "    num=num//10\n",
    "    \n",
    "if(temp==rev):\n",
    "    print(\"palindrome\")\n",
    "else:\n",
    "    print(\"not\")"
   ]
  },
  {
   "cell_type": "code",
   "execution_count": 7,
   "metadata": {},
   "outputs": [
    {
     "name": "stdout",
     "output_type": "stream",
     "text": [
      "O\n",
      "Capital letter is  O\n",
      "index is 0\n",
      "r\n",
      "s\n",
      "t\n",
      "r\n",
      "b\n",
      "s\n",
      "r\n",
      "b\n",
      "g\n",
      "r\n",
      "b\n",
      "r\n",
      "b\n",
      " \n",
      "W\n",
      "Capital letter is  W\n",
      "index is 15\n",
      "e\n",
      "f\n",
      "e\n",
      "r\n",
      "s\n",
      "v\n",
      " \n",
      "S\n",
      "Capital letter is  S\n",
      "index is 23\n",
      "d\n",
      "v\n",
      "s\n",
      "d\n",
      "f\n",
      "v\n",
      " \n",
      "A\n",
      "Capital letter is  A\n",
      "index is 31\n",
      "s\n",
      "R\n",
      "Capital letter is  R\n",
      "index is 33\n",
      "v\n",
      "f\n",
      "r\n",
      "f\n",
      "v\n",
      "['AsRvfrfv', 'Orstrbsrbgrbrb', 'Sdvsdfv', 'Wefersv']\n",
      "<class 'list'>\n",
      "AsRvfrfv\n",
      "Orstrbsrbgrbrb\n",
      "Sdvsdfv\n",
      "Wefersv\n"
     ]
    }
   ],
   "source": [
    "#find all Capital letter and print it with index value\n",
    "#Assignment\n",
    "c=0\n",
    "lst=\"Orstrbsrbgrbrb Wefersv Sdvsdfv AsRvfrfv\"\n",
    "lst2=lst.split()\n",
    "lst2.sort()\n",
    "\n",
    "for i in lst:\n",
    "    print(i)\n",
    "    if i.isupper():\n",
    "        print(\"Capital letter is \",i)\n",
    "        c+=1\n",
    "        print(\"index is\",lst.index(i))\n",
    "    \n",
    "        \n",
    "print(lst2)\n",
    "print(type(lst2))\n",
    "\n",
    "for lst3 in lst2:\n",
    "    print(lst3)"
   ]
  },
  {
   "cell_type": "code",
   "execution_count": 9,
   "metadata": {},
   "outputs": [
    {
     "name": "stdout",
     "output_type": "stream",
     "text": [
      "ABCD\n",
      "abcd\n"
     ]
    }
   ],
   "source": [
    "#assignment \n",
    "#upper() and lower() with manual code and not built-in function\n",
    "\n",
    "\n",
    "string='abcd'\n",
    "result = ''\n",
    "for char in string:\n",
    "    if ord(char) >= 65:\n",
    "        result += chr(ord(char) - 32)\n",
    "print( result)\n",
    "\n",
    "str_data='ABCD'\n",
    "result = ''\n",
    "for char in str_data:\n",
    "    if ord(char) >= 65:\n",
    "        result += chr(ord(char) + 32)\n",
    "print( result)\n"
   ]
  },
  {
   "cell_type": "code",
   "execution_count": 3,
   "metadata": {},
   "outputs": [
    {
     "name": "stdout",
     "output_type": "stream",
     "text": [
      "Current Fruits List [1, 2, 3, 4, 5]\n",
      "Updated Fruits List [1, 2, 3, 4, 5, [4, 5, 6, 7, 7]]\n"
     ]
    }
   ],
   "source": [
    "#append\n",
    "\n",
    "lst1 = [1,2,3,4,5]\n",
    "\n",
    "# 1. append()\n",
    "print(f'Current List {lst1}')\n",
    "\n",
    "f = [4,5,6,7,7]\n",
    "lst1.append(f)\n",
    "\n",
    "print(f'Updated List {lst1}')"
   ]
  },
  {
   "cell_type": "code",
   "execution_count": 5,
   "metadata": {},
   "outputs": [
    {
     "name": "stdout",
     "output_type": "stream",
     "text": [
      "4.8\n"
     ]
    }
   ],
   "source": [
    "#mean\n",
    "\n",
    "lst1=[2,4,5,6,7]\n",
    "\n",
    "add=0\n",
    "for i in lst1:\n",
    "    add=add+i\n",
    "    \n",
    "print(add/5)"
   ]
  },
  {
   "cell_type": "code",
   "execution_count": null,
   "metadata": {},
   "outputs": [],
   "source": [
    "#lcm\n",
    "\n",
    "def lcm(x, y):  \n",
    "    if x > y:  \n",
    "        greater = x  \n",
    "    else:  \n",
    "            greater = y  \n",
    "    while(True):  \n",
    "        if((greater % x == 0) and (greater % y == 0)):  \n",
    "                    lcm = greater  \n",
    "                    break  \n",
    "                    greater += 1  \n",
    "                    return lcm  \n",
    "  \n",
    "  \n",
    "num1 = int(input(\"Enter first number: \"))  \n",
    "num2 = int(input(\"Enter second number: \"))  \n",
    "print(\"The L.C.M. of\", num1,\"and\", num2,\"is\", lcm(num1, num2)) "
   ]
  },
  {
   "cell_type": "code",
   "execution_count": null,
   "metadata": {},
   "outputs": [],
   "source": [
    "#prime number using break statement\n",
    "\n",
    "num = 407\n",
    "\n",
    "# To take input from the user\n",
    "#num = int(input(\"Enter a number: \"))\n",
    "\n",
    "# prime numbers are greater than 1\n",
    "if num > 1:\n",
    "   # check for factors\n",
    "   for i in range(2,num):\n",
    "        if (num % i) == 0:\n",
    "            print(\" not a prime number\")\n",
    "            break\n",
    "   else:\n",
    "        print(\"is a prime number\")\n",
    "\n",
    "else:\n",
    "   print(\" not a prime number\")"
   ]
  },
  {
   "cell_type": "code",
   "execution_count": null,
   "metadata": {},
   "outputs": [],
   "source": [
    "#prime number sing continue statement\n",
    "\n",
    "num = 407\n",
    "\n",
    "# To take input from the user\n",
    "#num = int(input(\"Enter a number: \"))\n",
    "\n",
    "# prime numbers are greater than 1\n",
    "if num > 1:\n",
    "   # check for factors\n",
    "   for i in range(2,num):\n",
    "        if (num % i) == 0:\n",
    "            print(\" not a prime number\")\n",
    "            continue\n",
    "   else:\n",
    "        print(\" is a prime number\")\n",
    "\n",
    "else:\n",
    "   print(\" not a prime number\")"
   ]
  },
  {
   "cell_type": "code",
   "execution_count": null,
   "metadata": {},
   "outputs": [],
   "source": []
  }
 ],
 "metadata": {
  "kernelspec": {
   "display_name": "Python 3",
   "language": "python",
   "name": "python3"
  },
  "language_info": {
   "codemirror_mode": {
    "name": "ipython",
    "version": 3
   },
   "file_extension": ".py",
   "mimetype": "text/x-python",
   "name": "python",
   "nbconvert_exporter": "python",
   "pygments_lexer": "ipython3",
   "version": "3.8.5"
  }
 },
 "nbformat": 4,
 "nbformat_minor": 4
}
