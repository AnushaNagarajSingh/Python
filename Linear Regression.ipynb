{
 "cells": [
  {
   "cell_type": "code",
   "execution_count": 2,
   "metadata": {},
   "outputs": [
    {
     "data": {
      "image/png": "[encoded data removed]",
      "text/plain": [
       "<Figure size 432x288 with 1 Axes>"
      ]
     },
     "metadata": {
      "needs_background": "light"
     },
     "output_type": "display_data"
    }
   ],
   "source": [
    "import matplotlib.pyplot as plt\n",
    "\n",
    "x=[6,55,7,3,4,6,3,6,3,34]\n",
    "y=[45,343,32,32,64,23,12,78,98,65]\n",
    "\n",
    "plt.scatter(x,y)\n",
    "plt.show()"
   ]
  },
  {
   "cell_type": "code",
   "execution_count": 1,
   "metadata": {},
   "outputs": [
    {
     "data": {
      "image/png": "[encoded data removed]",
      "text/plain": [
       "<Figure size 432x288 with 1 Axes>"
      ]
     },
     "metadata": {
      "needs_background": "light"
     },
     "output_type": "display_data"
    }
   ],
   "source": [
    "#predict the speed of a 10 year old car\n",
    "\n",
    "import matplotlib.pyplot as plt\n",
    "from scipy import stats\n",
    "\n",
    "x=[6,55,7,3,4,6,3,6,3,34]\n",
    "y=[45,343,32,32,64,23,12,78,98,65]\n",
    "\n",
    "slope, intercept, r, p , std_err=stats.linregress(x,y)\n",
    "\n",
    "def myfunc(x):\n",
    "    return slope*x+intercept\n",
    "\n",
    "mymodel=list(map(myfunc,x))\n",
    "\n",
    "plt.scatter(x,y)\n",
    "plt.plot(x, mymodel)\n",
    "plt.show()"
   ]
  },
  {
   "cell_type": "code",
   "execution_count": 2,
   "metadata": {},
   "outputs": [
    {
     "name": "stdout",
     "output_type": "stream",
     "text": [
      "25.10382572883928\n"
     ]
    }
   ],
   "source": [
    "from scipy import stats\n",
    "\n",
    "x=[6,55,7,3,4,6,3,6,3,34]\n",
    "y=[45,343,32,32,64,23,12,78,98,65]\n",
    "\n",
    "slope, intercept, r, p , std_err=stats.linregress(x,y)\n",
    "\n",
    "def myfunc(x):\n",
    "    return slope*x+intercept\n",
    "\n",
    "speed=myfunc(1)\n",
    "print(speed)\n"
   ]
  },
  {
   "cell_type": "code",
   "execution_count": 3,
   "metadata": {},
   "outputs": [
    {
     "name": "stdout",
     "output_type": "stream",
     "text": [
      "0.840943795501067\n"
     ]
    }
   ],
   "source": [
    "#good fit and bad fit range should lie between -1 to +1 \n",
    "#but bad fat is 0.0\n",
    "#good fit is the relationship between x and y\n",
    "\n",
    "import numpy\n",
    "from scipy import stats\n",
    "\n",
    "x=[6,55,7,3,4,6,3,6,3,34]\n",
    "y=[45,343,32,32,64,23,12,78,98,65]\n",
    "\n",
    "slope, intercept, r, p , std_err=stats.linregress(x,y)\n",
    "print(r)"
   ]
  },
  {
   "cell_type": "code",
   "execution_count": null,
   "metadata": {},
   "outputs": [],
   "source": []
  },
  {
   "cell_type": "code",
   "execution_count": null,
   "metadata": {},
   "outputs": [],
   "source": []
  }
 ],
 "metadata": {
  "kernelspec": {
   "display_name": "Python 3",
   "language": "python",
   "name": "python3"
  },
  "language_info": {
   "codemirror_mode": {
    "name": "ipython",
    "version": 3
   },
   "file_extension": ".py",
   "mimetype": "text/x-python",
   "name": "python",
   "nbconvert_exporter": "python",
   "pygments_lexer": "ipython3",
   "version": "3.8.5"
  }
 },
 "nbformat": 4,
 "nbformat_minor": 4
}
