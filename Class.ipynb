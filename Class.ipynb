{
 "cells": [
  {
   "cell_type": "code",
   "execution_count": 9,
   "metadata": {},
   "outputs": [],
   "source": [
    "class hello:\n",
    "    pass"
   ]
  },
  {
   "cell_type": "code",
   "execution_count": 17,
   "metadata": {},
   "outputs": [
    {
     "name": "stdout",
     "output_type": "stream",
     "text": [
      "2020\n"
     ]
    },
    {
     "ename": "NameError",
     "evalue": "name 'ash' is not defined",
     "output_type": "error",
     "traceback": [
      "\u001b[1;31m---------------------------------------------------------------------------\u001b[0m",
      "\u001b[1;31mNameError\u001b[0m                                 Traceback (most recent call last)",
      "\u001b[1;32m<ipython-input-17-14e9ee49e08d>\u001b[0m in \u001b[0;36m<module>\u001b[1;34m\u001b[0m\n\u001b[1;32m----> 1\u001b[1;33m \u001b[1;32mclass\u001b[0m \u001b[0mash\u001b[0m\u001b[1;33m:\u001b[0m\u001b[1;33m\u001b[0m\u001b[1;33m\u001b[0m\u001b[0m\n\u001b[0m\u001b[0;32m      2\u001b[0m     \u001b[0mprint\u001b[0m\u001b[1;33m(\u001b[0m\u001b[1;34m\"2020\"\u001b[0m\u001b[1;33m)\u001b[0m\u001b[1;33m\u001b[0m\u001b[1;33m\u001b[0m\u001b[0m\n\u001b[0;32m      3\u001b[0m     \u001b[0mepid\u001b[0m\u001b[1;33m=\u001b[0m\u001b[1;34m\"coronavirus\"\u001b[0m\u001b[1;33m\u001b[0m\u001b[1;33m\u001b[0m\u001b[0m\n\u001b[0;32m      4\u001b[0m     \u001b[0mprint\u001b[0m\u001b[1;33m(\u001b[0m\u001b[0mash\u001b[0m\u001b[1;33m.\u001b[0m\u001b[0mepid\u001b[0m\u001b[1;33m)\u001b[0m\u001b[1;33m\u001b[0m\u001b[1;33m\u001b[0m\u001b[0m\n\u001b[0;32m      5\u001b[0m \u001b[1;33m\u001b[0m\u001b[0m\n",
      "\u001b[1;32m<ipython-input-17-14e9ee49e08d>\u001b[0m in \u001b[0;36mash\u001b[1;34m()\u001b[0m\n\u001b[0;32m      2\u001b[0m     \u001b[0mprint\u001b[0m\u001b[1;33m(\u001b[0m\u001b[1;34m\"2020\"\u001b[0m\u001b[1;33m)\u001b[0m\u001b[1;33m\u001b[0m\u001b[1;33m\u001b[0m\u001b[0m\n\u001b[0;32m      3\u001b[0m     \u001b[0mepid\u001b[0m\u001b[1;33m=\u001b[0m\u001b[1;34m\"coronavirus\"\u001b[0m\u001b[1;33m\u001b[0m\u001b[1;33m\u001b[0m\u001b[0m\n\u001b[1;32m----> 4\u001b[1;33m     \u001b[0mprint\u001b[0m\u001b[1;33m(\u001b[0m\u001b[0mash\u001b[0m\u001b[1;33m.\u001b[0m\u001b[0mepid\u001b[0m\u001b[1;33m)\u001b[0m\u001b[1;33m\u001b[0m\u001b[1;33m\u001b[0m\u001b[0m\n\u001b[0m\u001b[0;32m      5\u001b[0m \u001b[1;33m\u001b[0m\u001b[0m\n\u001b[0;32m      6\u001b[0m \u001b[0mash\u001b[0m\u001b[1;33m.\u001b[0m\u001b[0mepid\u001b[0m\u001b[1;33m\u001b[0m\u001b[1;33m\u001b[0m\u001b[0m\n",
      "\u001b[1;31mNameError\u001b[0m: name 'ash' is not defined"
     ]
    }
   ],
   "source": [
    "class ash:\n",
    "    print(\"2020\")\n",
    "    epid=\"coronavirus\"\n",
    "    print(ash.epid) \n",
    "        \n",
    "ash.epid"
   ]
  },
  {
   "cell_type": "code",
   "execution_count": 12,
   "metadata": {},
   "outputs": [
    {
     "name": "stdout",
     "output_type": "stream",
     "text": [
      "greeting\n",
      "greeting\n",
      "greeting\n",
      "greeting\n",
      "gud morning\n",
      "good day\n",
      "beye\n",
      "gud morning\n",
      "gud morning\n"
     ]
    }
   ],
   "source": [
    "class hey:\n",
    "    hi=\"greeting\"\n",
    "    \n",
    "test=hey()\n",
    "test1=hey()\n",
    "\n",
    "print(test1.hi)\n",
    "print(hey.hi)\n",
    "print(test.hi)\n",
    "print(hey.hi)\n",
    "\n",
    "test.hi=\"good day\"\n",
    "test1.hi=\"gud morning\"\n",
    "print(test1.hi)\n",
    "print(test.hi)\n",
    "\n",
    "hey.hi=\"beye\"\n",
    "print(hey.hi)\n",
    "print(test1.hi)\n",
    "print(test1.hi)"
   ]
  },
  {
   "cell_type": "code",
   "execution_count": 13,
   "metadata": {},
   "outputs": [
    {
     "name": "stdout",
     "output_type": "stream",
     "text": [
      "an\n",
      "23\n",
      "std\n"
     ]
    }
   ],
   "source": [
    "#class init\n",
    "\n",
    "class member:\n",
    "    def __init__(self,name,age,position):\n",
    "        self.name=name\n",
    "        self.age=age\n",
    "        self.position=position\n",
    "        \n",
    "    def hi(self,name,age):\n",
    "        self.name=name\n",
    "        self.age=age\n",
    "        \n",
    "test=member(\"an\",23,\"std\")\n",
    "#test1=member(\"an\",23)\n",
    "\n",
    "print(test.name)\n",
    "print(test.age)\n",
    "print(test.position)\n",
    "\n",
    "#print(test1.name)\n",
    "#print(test1.age)"
   ]
  },
  {
   "cell_type": "code",
   "execution_count": 18,
   "metadata": {},
   "outputs": [
    {
     "name": "stdout",
     "output_type": "stream",
     "text": [
      "aefarver\n",
      "45\n",
      "asdcd\n",
      "hello aefarver\n"
     ]
    }
   ],
   "source": [
    "#python object method\n",
    "\n",
    "class member:\n",
    "    def __init__(self,name,age,position):\n",
    "        self.name=name\n",
    "        self.age=age\n",
    "        self.position=position\n",
    "        \n",
    "    def testfun(self):\n",
    "        print(\"hello \"+self.name)\n",
    "        \n",
    "#how to run this fuction\n",
    "\n",
    "\n",
    "m1=member('aefarver',45,\"asdcd\")\n",
    "print(m1.name)\n",
    "print(m1.age)\n",
    "print(m1.position)\n",
    "\n",
    "m1.testfun()"
   ]
  },
  {
   "cell_type": "code",
   "execution_count": 20,
   "metadata": {},
   "outputs": [
    {
     "name": "stdout",
     "output_type": "stream",
     "text": [
      "hello afsrgedg\n"
     ]
    }
   ],
   "source": [
    "\n",
    "class Person:\n",
    "    def __init__(annu,name,age,position):\n",
    "        annu.name=name\n",
    "        annu.age=age\n",
    "        annu.position=position\n",
    "        \n",
    "    def fun(ashu):\n",
    "        print(\"hello \"+ashu.name)\n",
    "        \n",
    "p=Person('afsrgedg',34,\"dfgfgb\")\n",
    "p.fun()"
   ]
  },
  {
   "cell_type": "code",
   "execution_count": 21,
   "metadata": {},
   "outputs": [
    {
     "name": "stdout",
     "output_type": "stream",
     "text": [
      "hello daefrfve\n",
      "hello 34\n",
      "hello sdfsvd\n"
     ]
    }
   ],
   "source": [
    "#class and object\n",
    "\n",
    "class member:\n",
    "    def __init__(self,name,age,position):\n",
    "        self.name=name\n",
    "        self.age=age\n",
    "        self.position=position\n",
    "        \n",
    "    def memberinfo(self):\n",
    "        print(\"hello \"+self.name)\n",
    "        print(\"hello \"+self.age)\n",
    "        print(\"hello \"+self.position)\n",
    "        \n",
    "m1=member(\"daefrfve\",\"34\",\"sdfsvd\")\n",
    "m1.memberinfo()"
   ]
  },
  {
   "cell_type": "code",
   "execution_count": null,
   "metadata": {},
   "outputs": [],
   "source": []
  }
 ],
 "metadata": {
  "kernelspec": {
   "display_name": "Python 3",
   "language": "python",
   "name": "python3"
  },
  "language_info": {
   "codemirror_mode": {
    "name": "ipython",
    "version": 3
   },
   "file_extension": ".py",
   "mimetype": "text/x-python",
   "name": "python",
   "nbconvert_exporter": "python",
   "pygments_lexer": "ipython3",
   "version": "3.8.5"
  }
 },
 "nbformat": 4,
 "nbformat_minor": 4
}
