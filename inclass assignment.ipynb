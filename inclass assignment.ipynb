{
 "cells": [
  {
   "cell_type": "code",
   "execution_count": 23,
   "metadata": {},
   "outputs": [
    {
     "name": "stdout",
     "output_type": "stream",
     "text": [
      "4.8\n"
     ]
    }
   ],
   "source": [
    "#mean\n",
    "\n",
    "lst1=[2,4,5,6,7]\n",
    "\n",
    "add=0\n",
    "for i in lst1:\n",
    "    add=add+i\n",
    "    \n",
    "print(add/5)"
   ]
  },
  {
   "cell_type": "code",
   "execution_count": 24,
   "metadata": {},
   "outputs": [
    {
     "name": "stdout",
     "output_type": "stream",
     "text": [
      "Current List [1, 2, 3, 4, 5]\n",
      "Updated List [1, 2, 3, 4, 5, [4, 5, 6, 7, 7]]\n"
     ]
    }
   ],
   "source": [
    "#append\n",
    "\n",
    "lst1 = [1,2,3,4,5]\n",
    "\n",
    "# 1. append()\n",
    "print(f'Current List {lst1}')\n",
    "\n",
    "f = [4,5,6,7,7]\n",
    "lst1.append(f)\n",
    "\n",
    "print(f'Updated List {lst1}')"
   ]
  },
  {
   "cell_type": "code",
   "execution_count": 25,
   "metadata": {},
   "outputs": [
    {
     "name": "stdout",
     "output_type": "stream",
     "text": [
      "Enter first number: 12\n",
      "Enter second number: 20\n",
      "The L.C.M. of 12 and 20 is 60\n"
     ]
    }
   ],
   "source": [
    "#lcm\n",
    "\n",
    "def lcm(x, y):  \n",
    "    if x > y:  \n",
    "        greater = x  \n",
    "    else:  \n",
    "            greater = y  \n",
    "    while(True):  \n",
    "        if((greater % x == 0) and (greater % y == 0)):  \n",
    "                    lcm = greater  \n",
    "                    break  \n",
    "        greater += 1  \n",
    "    return lcm  \n",
    "  \n",
    "  \n",
    "num1 = int(input(\"Enter first number: \"))  \n",
    "num2 = int(input(\"Enter second number: \"))  \n",
    "print(\"The L.C.M. of\", num1,\"and\", num2,\"is\", lcm(num1, num2)) "
   ]
  },
  {
   "cell_type": "code",
   "execution_count": 26,
   "metadata": {},
   "outputs": [
    {
     "name": "stdout",
     "output_type": "stream",
     "text": [
      " not a prime number\n"
     ]
    }
   ],
   "source": [
    "#prime number using break statement\n",
    "\n",
    "num = 407\n",
    "\n",
    "# To take input from the user\n",
    "#num = int(input(\"Enter a number: \"))\n",
    "\n",
    "# prime numbers are greater than 1\n",
    "if num > 1:\n",
    "   # check for factors\n",
    "   for i in range(2,num):\n",
    "        if (num % i) == 0:\n",
    "            print(\" not a prime number\")\n",
    "            break\n",
    "   else:\n",
    "        print(\"is a prime number\")\n",
    "\n",
    "else:\n",
    "   print(\" not a prime number\")"
   ]
  },
  {
   "cell_type": "code",
   "execution_count": 27,
   "metadata": {},
   "outputs": [
    {
     "name": "stdout",
     "output_type": "stream",
     "text": [
      " not a prime number\n",
      " not a prime number\n",
      " is a prime number\n"
     ]
    }
   ],
   "source": [
    "#prime number sing continue statement\n",
    "\n",
    "num = 407\n",
    "\n",
    "# To take input from the user\n",
    "#num = int(input(\"Enter a number: \"))\n",
    "\n",
    "# prime numbers are greater than 1\n",
    "if num > 1:\n",
    "   # check for factors\n",
    "   for i in range(2,num):\n",
    "        if (num % i) == 0:\n",
    "            print(\" not a prime number\")\n",
    "            continue\n",
    "   else:\n",
    "        print(\" is a prime number\")\n",
    "\n",
    "else:\n",
    "   print(\" not a prime number\")"
   ]
  },
  {
   "cell_type": "code",
   "execution_count": null,
   "metadata": {},
   "outputs": [],
   "source": []
  }
 ],
 "metadata": {
  "kernelspec": {
   "display_name": "Python 3",
   "language": "python",
   "name": "python3"
  },
  "language_info": {
   "codemirror_mode": {
    "name": "ipython",
    "version": 3
   },
   "file_extension": ".py",
   "mimetype": "text/x-python",
   "name": "python",
   "nbconvert_exporter": "python",
   "pygments_lexer": "ipython3",
   "version": "3.8.5"
  }
 },
 "nbformat": 4,
 "nbformat_minor": 4
}
