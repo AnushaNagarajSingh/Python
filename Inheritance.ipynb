{
 "cells": [
  {
   "cell_type": "code",
   "execution_count": 15,
   "metadata": {},
   "outputs": [
    {
     "name": "stdout",
     "output_type": "stream",
     "text": [
      "Parent class\n",
      "child class\n"
     ]
    }
   ],
   "source": [
    "#create a child class\n",
    "#INHERITANCE\n",
    "class xyz:\n",
    "    print(\"Parent class\")\n",
    "\n",
    "class abc(xyz):\n",
    "    print('child class')\n",
    "    "
   ]
  },
  {
   "cell_type": "code",
   "execution_count": 17,
   "metadata": {},
   "outputs": [
    {
     "name": "stdout",
     "output_type": "stream",
     "text": [
      "John Doe\n"
     ]
    }
   ],
   "source": [
    "#class function\n",
    "\n",
    "class Person:\n",
    "    def __init__(self, fname, lname):\n",
    "        self.firstname = fname\n",
    "        self.lastname = lname\n",
    "\n",
    "    def printname(self):\n",
    "        print(self.firstname, self.lastname)\n",
    "\n",
    "#Use the Person class to create an object, and then execute the printname method:\n",
    "\n",
    "x = Person(\"John\", \"Doe\")\n",
    "x.printname()"
   ]
  },
  {
   "cell_type": "code",
   "execution_count": 38,
   "metadata": {},
   "outputs": [
    {
     "name": "stdout",
     "output_type": "stream",
     "text": [
      "John Doe\n",
      "Welcome Mike Olsen to the class of 2019\n"
     ]
    }
   ],
   "source": [
    "#inheritance with super class\n",
    "\n",
    "class Person:\n",
    "    def __init__(self, fname, lname):\n",
    "        self.firstname = fname\n",
    "        self.lastname = lname\n",
    "\n",
    "    def printname(self):\n",
    "        print(self.firstname, self.lastname)\n",
    "\n",
    "#Use the Person class to create an object, and then execute the printname method:\n",
    "\n",
    "x = Person(\"John\", \"Doe\")\n",
    "x.printname()\n",
    "\n",
    "class Student(Person):\n",
    "    def __init__(self, fname, lname,year):\n",
    "            super().__init__(fname, lname)\n",
    "            self.graduationyear = year\n",
    "    def welcome(self):\n",
    "            print(\"Welcome\", self.firstname, self.lastname, \"to the class of\", self.graduationyear)\n",
    "            \n",
    "y = Student(\"Mike\", \"Olsen\", 2019)\n",
    "y.welcome()"
   ]
  },
  {
   "cell_type": "code",
   "execution_count": 35,
   "metadata": {},
   "outputs": [
    {
     "name": "stdout",
     "output_type": "stream",
     "text": [
      "model\n"
     ]
    }
   ],
   "source": [
    "class sports:\n",
    "    def __init__(self,model,color,cost):\n",
    "        self.model=model\n",
    "        self.color=color\n",
    "        self.cost=cost\n",
    "        \n",
    "    def getmodel(self):\n",
    "        return self.model\n",
    "    \n",
    "    def getcolor(self):\n",
    "        return self.color\n",
    "    \n",
    "    def getcost(self):\n",
    "        return self.cost\n",
    "\n",
    "class shoes(sports):\n",
    "    def __init__(self,model,color,cost,brand):\n",
    "        super().__init__(model,color,cost)\n",
    "        self.brand=brand\n",
    "    \n",
    "sh1=shoes(\"model\",\"color\",\"cost\",\"brand\")\n",
    "print(sh1.getmodel())\n",
    "        "
   ]
  },
  {
   "cell_type": "code",
   "execution_count": 47,
   "metadata": {},
   "outputs": [
    {
     "name": "stdout",
     "output_type": "stream",
     "text": [
      "super class 1\n",
      "super class 2\n",
      "over\n"
     ]
    }
   ],
   "source": [
    "#multiple inheritance\n",
    "\n",
    "class super1(object):\n",
    "    def __init__(self):\n",
    "        self.test1=\"pythn\"\n",
    "        print(\"super class 1\")\n",
    "        \n",
    "class super2(object):\n",
    "    def __init__(self):\n",
    "        self.test2=\"class\"\n",
    "        print(\"super class 2\")\n",
    "        \n",
    "class multi(super1,super2):\n",
    "    def __init__(self):\n",
    "        super1.__init__(self) #calling constructor of super1 and super2 class\n",
    "        super2.__init__(self)\n",
    "        print(\"over\")\n",
    "    \n",
    "    def prin(self):\n",
    "        print(self.test1, slef.test2)\n",
    "        obj=multi()\n",
    "        obj.prin()\n",
    "        \n",
    "x=multi()\n"
   ]
  },
  {
   "cell_type": "code",
   "execution_count": null,
   "metadata": {},
   "outputs": [],
   "source": []
  }
 ],
 "metadata": {
  "kernelspec": {
   "display_name": "Python 3",
   "language": "python",
   "name": "python3"
  },
  "language_info": {
   "codemirror_mode": {
    "name": "ipython",
    "version": 3
   },
   "file_extension": ".py",
   "mimetype": "text/x-python",
   "name": "python",
   "nbconvert_exporter": "python",
   "pygments_lexer": "ipython3",
   "version": "3.8.5"
  }
 },
 "nbformat": 4,
 "nbformat_minor": 4
}
