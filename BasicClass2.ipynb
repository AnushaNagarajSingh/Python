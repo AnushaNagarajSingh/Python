{
 "cells": [
  {
   "cell_type": "code",
   "execution_count": 1,
   "metadata": {},
   "outputs": [
    {
     "name": "stdout",
     "output_type": "stream",
     "text": [
      "(1+2j)\n",
      "<class 'complex'>\n"
     ]
    }
   ],
   "source": [
    "#complex number\n",
    "\n",
    "A=1+2j\n",
    "print(A)\n",
    "print(type(A))"
   ]
  },
  {
   "cell_type": "code",
   "execution_count": 1,
   "metadata": {},
   "outputs": [
    {
     "name": "stdout",
     "output_type": "stream",
     "text": [
      "i am learning\n",
      "1859618015920\n",
      "<class 'str'>\n",
      "m\n",
      "am l\n"
     ]
    }
   ],
   "source": [
    "#string\n",
    "\n",
    "s='i am learning'\n",
    "print(s)\n",
    "print(id(s))\n",
    "print(type(s))\n",
    "print(s[3])\n",
    "print(s[2:6])"
   ]
  },
  {
   "cell_type": "code",
   "execution_count": 2,
   "metadata": {},
   "outputs": [
    {
     "name": "stdout",
     "output_type": "stream",
     "text": [
      "['adsf', 678879, 'ashn@gmail.com', 456576, 'rdhthfy', 476]\n",
      "1859617603776\n",
      "<class 'list'>\n",
      "['adsf', 678879, 'svd', 456576, 'rdhthfy', 476]\n",
      "svd\n",
      "['adsf', 678879, 'svd', 456576, 'rdhthfy', 476]\n"
     ]
    }
   ],
   "source": [
    "#list\n",
    "#Lists are mutable\n",
    "#can be accessed through index value\n",
    "#[] indicated\n",
    "\n",
    "lst=['adsf',678879,'ashn@gmail.com',456576,'rdhthfy',476]\n",
    "print(lst)\n",
    "print(id(lst))\n",
    "print(type(lst))\n",
    "lst[2]=\"svd\"\n",
    "print(lst)\n",
    "print(lst[2])\n",
    "#print(lst[2][5])\n",
    "print(lst)"
   ]
  },
  {
   "cell_type": "code",
   "execution_count": 9,
   "metadata": {},
   "outputs": [
    {
     "name": "stdout",
     "output_type": "stream",
     "text": [
      "['anusha', 234353, 'an@gmail.com', 'an@gmail.com', 'ash', 234353, 'ash@gmail.com']\n",
      "<class 'list'>\n",
      "['anusha', 234353, 'ann@gmail.com', 'ann@gmail.com', 'ash', 234353, 'ash@gmail.com']\n",
      "s\n"
     ]
    }
   ],
   "source": [
    "#list\n",
    "\n",
    "list=[\"anusha\",234353,\"an@gmail.com\",\"an@gmail.com\",\"ash\",234353,\"ash@gmail.com\"]\n",
    "print(list)\n",
    "print(type(list))       #mutable \n",
    "list[2]=\"ann@gmail.com\"\n",
    "list[3]=\"ann@gmail.com\"\n",
    "print(list)\n",
    "print(list[0][3])"
   ]
  },
  {
   "cell_type": "code",
   "execution_count": 3,
   "metadata": {},
   "outputs": [
    {
     "name": "stdout",
     "output_type": "stream",
     "text": [
      "('indc', 23, 435.0, 4, 'sef', 345.8)\n",
      "('indc', 23, 435.0)\n",
      "(4, 'sef', 345.8)\n",
      "<class 'tuple'>\n",
      "435.0\n"
     ]
    }
   ],
   "source": [
    "#tuple\n",
    "#tuples are immutable\n",
    "#can be accessed through index value\n",
    "#() indicated\n",
    "\n",
    "a1=('indc',23,435.0)\n",
    "a2=(4,'sef',345.8)\n",
    "\n",
    "#a3=[a1+a2]\n",
    "a3=(a1+a2)\n",
    "print(a3)\n",
    "\n",
    "print(a1)\n",
    "print(a2)\n",
    "print(type(a2))\n",
    "print(a1[2])\n",
    "#a2[2]=9"
   ]
  },
  {
   "cell_type": "code",
   "execution_count": 19,
   "metadata": {},
   "outputs": [
    {
     "name": "stdout",
     "output_type": "stream",
     "text": [
      "('anusha', 234353, 'an@gmail.com', 'an@gmail.com', 'ash', 234353, 'ash@gmail.com')\n",
      "<class 'tuple'>\n",
      "('anusha', 234353, 'an@gmail.com', 'an@gmail.com', 'ash', 234353, 'ash@gmail.com')\n",
      "s\n"
     ]
    }
   ],
   "source": [
    "#tuples\n",
    "\n",
    "tuples=(\"anusha\",234353,\"an@gmail.com\",\"an@gmail.com\",\"ash\",234353,\"ash@gmail.com\")\n",
    "print(tuples)\n",
    "print(type(tuples))     #immutable\n",
    "\n",
    "print(tuples)\n",
    "print(tuples[0][3])"
   ]
  },
  {
   "cell_type": "code",
   "execution_count": 25,
   "metadata": {},
   "outputs": [
    {
     "name": "stdout",
     "output_type": "stream",
     "text": [
      "<class 'list'>\n",
      "(1, 'hi', 7.8, 2, 'hello', 0, 3)\n",
      "<class 'tuple'>\n",
      "<class 'tuple'>\n",
      "<class 'tuple'>\n"
     ]
    }
   ],
   "source": [
    "#Adding tuples or List\n",
    "\n",
    "A1=(1,'hi',7.8)\n",
    "A2=(2,\"hello\",0,3)\n",
    "A3=[A1+A2]          #list \n",
    "print(type(A3))\n",
    "A3=(A1+A2)          # tuple\n",
    "print(A3)\n",
    "print(type(A3))\n",
    "print(type(A2))\n",
    "print(type(A1))"
   ]
  },
  {
   "cell_type": "code",
   "execution_count": 4,
   "metadata": {},
   "outputs": [
    {
     "name": "stdout",
     "output_type": "stream",
     "text": [
      "{'a': 'aple', 'b': 'bat', 'c': 'cat', 1: 'dog'}\n",
      "<class 'dict'>\n",
      "aple\n",
      "dog\n",
      " new hello\n"
     ]
    }
   ],
   "source": [
    "#dictionary\n",
    "#dynamic\n",
    "#they have nested values\n",
    "#{} indicated\n",
    "\n",
    "d={'a' : 'aple', 'b' : 'bat', 'c' : 'cat', 1 : 'dog'}\n",
    "new={'new1' : \"hello\"}\n",
    "\n",
    "print(d)\n",
    "print(type(d))\n",
    "print(d['a'])\n",
    "print(d[1])\n",
    "new['new1']\n",
    "new['new1']=\" new hello\"\n",
    "print(new['new1'])"
   ]
  },
  {
   "cell_type": "code",
   "execution_count": 44,
   "metadata": {},
   "outputs": [
    {
     "name": "stdout",
     "output_type": "stream",
     "text": [
      "{'a': 'apple', 'b': 'banana'}\n",
      "banana\n",
      "ash\n"
     ]
    },
    {
     "data": {
      "text/plain": [
       "'ash'"
      ]
     },
     "execution_count": 44,
     "metadata": {},
     "output_type": "execute_result"
    }
   ],
   "source": [
    "#Dictionary\n",
    "\n",
    "d={'a':'apple','b':'banana'}\n",
    "t={\"2343535\":\"anusha\"}\n",
    "print(d)\n",
    "print(d['b'])\n",
    "\n",
    "t['2343535']=\"ash\"\n",
    "print(t['2343535'])\n",
    "t['2343535']\n"
   ]
  },
  {
   "cell_type": "code",
   "execution_count": 5,
   "metadata": {},
   "outputs": [],
   "source": [
    "#conversion of one data type to another\n",
    "#list to tuple and vice versa\n",
    "#set to tuple and vice versa\n",
    "#list to set and vice versa\n",
    "#string to list and vice versa not possible\n"
   ]
  },
  {
   "cell_type": "code",
   "execution_count": 43,
   "metadata": {},
   "outputs": [
    {
     "name": "stdout",
     "output_type": "stream",
     "text": [
      "i am learning\n",
      "<class 'str'>\n"
     ]
    },
    {
     "ename": "TypeError",
     "evalue": "'list' object is not callable",
     "output_type": "error",
     "traceback": [
      "\u001b[1;31m---------------------------------------------------------------------------\u001b[0m",
      "\u001b[1;31mTypeError\u001b[0m                                 Traceback (most recent call last)",
      "\u001b[1;32m<ipython-input-43-c64ec38d6b55>\u001b[0m in \u001b[0;36m<module>\u001b[1;34m\u001b[0m\n\u001b[0;32m      9\u001b[0m \u001b[1;33m\u001b[0m\u001b[0m\n\u001b[0;32m     10\u001b[0m \u001b[1;31m#list to string not possible\u001b[0m\u001b[1;33m\u001b[0m\u001b[1;33m\u001b[0m\u001b[1;33m\u001b[0m\u001b[0m\n\u001b[1;32m---> 11\u001b[1;33m \u001b[0mT\u001b[0m\u001b[1;33m=\u001b[0m\u001b[0mlist\u001b[0m\u001b[1;33m(\u001b[0m\u001b[0mA\u001b[0m\u001b[1;33m)\u001b[0m\u001b[1;33m\u001b[0m\u001b[1;33m\u001b[0m\u001b[0m\n\u001b[0m\u001b[0;32m     12\u001b[0m \u001b[0mE\u001b[0m\u001b[1;33m=\u001b[0m\u001b[0mstring\u001b[0m\u001b[1;33m(\u001b[0m\u001b[0mT\u001b[0m\u001b[1;33m)\u001b[0m\u001b[1;33m\u001b[0m\u001b[1;33m\u001b[0m\u001b[0m\n\u001b[0;32m     13\u001b[0m \u001b[0mprint\u001b[0m\u001b[1;33m(\u001b[0m\u001b[0mS\u001b[0m\u001b[1;33m)\u001b[0m\u001b[1;33m\u001b[0m\u001b[1;33m\u001b[0m\u001b[0m\n",
      "\u001b[1;31mTypeError\u001b[0m: 'list' object is not callable"
     ]
    }
   ],
   "source": [
    "#string to list \n",
    "A=[1,2,3,4,5]\n",
    "A=\"i am learning\"\n",
    "print(A)\n",
    "print(type(A))\n",
    "\n",
    "S=tuple(A)\n",
    "\n",
    "\n",
    "#list to string not possible\n",
    "T=list(A)\n",
    "E=string(T)\n",
    "print(S)\n",
    "print(type(S))\n",
    "print(T)\n",
    "print(type(T))"
   ]
  },
  {
   "cell_type": "code",
   "execution_count": 41,
   "metadata": {},
   "outputs": [
    {
     "name": "stdout",
     "output_type": "stream",
     "text": [
      "i am learning\n",
      "2616648109296\n",
      "m\n",
      "am l\n"
     ]
    }
   ],
   "source": [
    "#string\n",
    "\n",
    "S=\"i am learning\"\n",
    "print(S)\n",
    "print(id(S))\n",
    "print(S[3])\n",
    "print(S[2:6])"
   ]
  },
  {
   "cell_type": "code",
   "execution_count": 6,
   "metadata": {},
   "outputs": [
    {
     "name": "stdout",
     "output_type": "stream",
     "text": [
      "{1, 2, 6, 7, 45}\n",
      "<class 'set'>\n"
     ]
    },
    {
     "ename": "NameError",
     "evalue": "name 'S' is not defined",
     "output_type": "error",
     "traceback": [
      "\u001b[1;31m---------------------------------------------------------------------------\u001b[0m",
      "\u001b[1;31mNameError\u001b[0m                                 Traceback (most recent call last)",
      "\u001b[1;32m<ipython-input-6-db718cafaa1c>\u001b[0m in \u001b[0;36m<module>\u001b[1;34m\u001b[0m\n\u001b[0;32m      9\u001b[0m \u001b[1;33m\u001b[0m\u001b[0m\n\u001b[0;32m     10\u001b[0m \u001b[1;31m#E=string(T)\u001b[0m\u001b[1;33m\u001b[0m\u001b[1;33m\u001b[0m\u001b[1;33m\u001b[0m\u001b[0m\n\u001b[1;32m---> 11\u001b[1;33m \u001b[0mprint\u001b[0m\u001b[1;33m(\u001b[0m\u001b[0mS\u001b[0m\u001b[1;33m)\u001b[0m\u001b[1;33m\u001b[0m\u001b[1;33m\u001b[0m\u001b[0m\n\u001b[0m\u001b[0;32m     12\u001b[0m \u001b[0mprint\u001b[0m\u001b[1;33m(\u001b[0m\u001b[0mtype\u001b[0m\u001b[1;33m(\u001b[0m\u001b[0mS\u001b[0m\u001b[1;33m)\u001b[0m\u001b[1;33m)\u001b[0m\u001b[1;33m\u001b[0m\u001b[1;33m\u001b[0m\u001b[0m\n\u001b[0;32m     13\u001b[0m \u001b[1;33m\u001b[0m\u001b[0m\n",
      "\u001b[1;31mNameError\u001b[0m: name 'S' is not defined"
     ]
    }
   ],
   "source": [
    "A={1,2,45,6,7}\n",
    "#A=\"i am learning\"\n",
    "print(A)\n",
    "print(type(A))\n",
    "\n",
    "#S=tuple(A)\n",
    "T=str(A)\n",
    "#T=list(A)\n",
    "\n",
    "#E=string(T)\n",
    "print(S)\n",
    "print(type(S))\n",
    "\n",
    "print(T)\n",
    "print(type(T))"
   ]
  },
  {
   "cell_type": "code",
   "execution_count": null,
   "metadata": {},
   "outputs": [],
   "source": []
  }
 ],
 "metadata": {
  "kernelspec": {
   "display_name": "Python 3",
   "language": "python",
   "name": "python3"
  },
  "language_info": {
   "codemirror_mode": {
    "name": "ipython",
    "version": 3
   },
   "file_extension": ".py",
   "mimetype": "text/x-python",
   "name": "python",
   "nbconvert_exporter": "python",
   "pygments_lexer": "ipython3",
   "version": "3.8.5"
  }
 },
 "nbformat": 4,
 "nbformat_minor": 4
}
