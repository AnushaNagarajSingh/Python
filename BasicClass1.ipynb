{
 "cells": [
  {
   "cell_type": "markdown",
   "metadata": {},
   "source": [
    "Basic Python \n",
    "Class1"
   ]
  },
  {
   "cell_type": "code",
   "execution_count": 3,
   "metadata": {},
   "outputs": [
    {
     "name": "stdout",
     "output_type": "stream",
     "text": [
      "13\n",
      "140724238231712\n",
      "<class 'int'>\n"
     ]
    }
   ],
   "source": [
    "a=7\n",
    "b=6\n",
    "c=a+b\n",
    "print(c)\n",
    "print(id(c))\n",
    "print(type(c)) #type inference"
   ]
  },
  {
   "cell_type": "code",
   "execution_count": 2,
   "metadata": {},
   "outputs": [
    {
     "name": "stdout",
     "output_type": "stream",
     "text": [
      "<class 'int'>\n",
      "<class 'float'>\n",
      "<class 'str'>\n"
     ]
    }
   ],
   "source": [
    "a=1\n",
    "b=1.0\n",
    "c='arfv'\n",
    "print(type(a))\n",
    "print(type(b))\n",
    "print(type(c))"
   ]
  },
  {
   "cell_type": "code",
   "execution_count": 7,
   "metadata": {},
   "outputs": [
    {
     "name": "stdout",
     "output_type": "stream",
     "text": [
      "28\n"
     ]
    }
   ],
   "source": [
    "A=1+2+ \\\n",
    "  3+4+\\\n",
    "    5+6+7\n",
    "print(A)"
   ]
  },
  {
   "cell_type": "code",
   "execution_count": 8,
   "metadata": {},
   "outputs": [
    {
     "name": "stdout",
     "output_type": "stream",
     "text": [
      "28\n"
     ]
    }
   ],
   "source": [
    "A=(1+2+ \n",
    "  3+4+\n",
    "    5+6+7)\n",
    "print(A)"
   ]
  },
  {
   "cell_type": "markdown",
   "metadata": {},
   "source": [
    "Change datatype\n"
   ]
  },
  {
   "cell_type": "code",
   "execution_count": 11,
   "metadata": {},
   "outputs": [
    {
     "name": "stdout",
     "output_type": "stream",
     "text": [
      "32\n",
      "<class 'int'>\n",
      "32.0\n",
      "<class 'float'>\n",
      "2446138234352\n"
     ]
    }
   ],
   "source": [
    "h=32\n",
    "print(h)\n",
    "print(type(h))\n",
    "\n",
    "ch=float(h)\n",
    "print(ch)\n",
    "print(type(ch))\n",
    "print(id(ch))"
   ]
  },
  {
   "cell_type": "code",
   "execution_count": 9,
   "metadata": {},
   "outputs": [
    {
     "name": "stdout",
     "output_type": "stream",
     "text": [
      "h 1.0\n",
      "type <class 'float'>\n",
      "new 1\n",
      "type <class 'int'>\n",
      "id of h 2446137109296\n",
      "id of new 140724238231328\n"
     ]
    }
   ],
   "source": [
    "h=1.0\n",
    "print(\"h\",h)\n",
    "print(\"type\",type(h))\n",
    "\n",
    "new= int(h)\n",
    "print(\"new\",new)\n",
    "print(\"type\",type(new))\n",
    "print(\"id of h\",id(h))\n",
    "print(\"id of new\",id(new))"
   ]
  },
  {
   "cell_type": "code",
   "execution_count": 17,
   "metadata": {},
   "outputs": [
    {
     "name": "stdout",
     "output_type": "stream",
     "text": [
      "<class 'str'>\n",
      "1.4\n",
      "<class 'float'>\n"
     ]
    }
   ],
   "source": [
    "a='1.4'\n",
    "print(type(a))\n",
    "\n",
    "b=float(a)\n",
    "print(b)\n",
    "print(type(b))"
   ]
  },
  {
   "cell_type": "code",
   "execution_count": 15,
   "metadata": {},
   "outputs": [
    {
     "name": "stdout",
     "output_type": "stream",
     "text": [
      "(1+2j)\n",
      "<class 'complex'>\n"
     ]
    }
   ],
   "source": [
    "#complex number\n",
    "\n",
    "a=1+2j\n",
    "print(a)\n",
    "print(type(a))"
   ]
  },
  {
   "cell_type": "code",
   "execution_count": null,
   "metadata": {},
   "outputs": [],
   "source": []
  }
 ],
 "metadata": {
  "kernelspec": {
   "display_name": "Python 3",
   "language": "python",
   "name": "python3"
  },
  "language_info": {
   "codemirror_mode": {
    "name": "ipython",
    "version": 3
   },
   "file_extension": ".py",
   "mimetype": "text/x-python",
   "name": "python",
   "nbconvert_exporter": "python",
   "pygments_lexer": "ipython3",
   "version": "3.8.5"
  }
 },
 "nbformat": 4,
 "nbformat_minor": 4
}
